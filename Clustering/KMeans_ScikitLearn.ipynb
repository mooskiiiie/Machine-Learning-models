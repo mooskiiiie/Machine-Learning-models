{
 "cells": [
  {
   "cell_type": "code",
   "execution_count": 16,
   "id": "7f65f905",
   "metadata": {},
   "outputs": [],
   "source": [
    "import pandas as pd\n",
    "import matplotlib.pyplot as plt\n",
    "import seaborn as sns"
   ]
  },
  {
   "cell_type": "code",
   "execution_count": 17,
   "id": "580a13b2",
   "metadata": {},
   "outputs": [],
   "source": [
    "df = pd.read_csv(\"2016-2019-voter-data.csv\")"
   ]
  },
  {
   "cell_type": "code",
   "execution_count": 19,
   "id": "ca062476",
   "metadata": {},
   "outputs": [
    {
     "data": {
      "text/html": [
       "<div>\n",
       "<style scoped>\n",
       "    .dataframe tbody tr th:only-of-type {\n",
       "        vertical-align: middle;\n",
       "    }\n",
       "\n",
       "    .dataframe tbody tr th {\n",
       "        vertical-align: top;\n",
       "    }\n",
       "\n",
       "    .dataframe thead th {\n",
       "        text-align: right;\n",
       "    }\n",
       "</style>\n",
       "<table border=\"1\" class=\"dataframe\">\n",
       "  <thead>\n",
       "    <tr style=\"text-align: right;\">\n",
       "      <th></th>\n",
       "      <th>Region</th>\n",
       "      <th>Province</th>\n",
       "      <th>Municipality</th>\n",
       "      <th>2016-Registered_Voters</th>\n",
       "      <th>2016-Registered_Male</th>\n",
       "      <th>2016-Registered_Female</th>\n",
       "      <th>2016-Registered_17-19</th>\n",
       "      <th>2016-Registered_20-24</th>\n",
       "      <th>2016-Registered_25-29</th>\n",
       "      <th>2016-Registered_30-34</th>\n",
       "      <th>...</th>\n",
       "      <th>2019-Clustered_Precincts</th>\n",
       "      <th>2019-Registered_Voters</th>\n",
       "      <th>2019-Registered_Male</th>\n",
       "      <th>2019-Registered_Female</th>\n",
       "      <th>2019-Actual_Voters</th>\n",
       "      <th>2019-Actual_Voters_Male</th>\n",
       "      <th>2019-Actual_Voters_Female</th>\n",
       "      <th>2019-Total_Voters_Turnout</th>\n",
       "      <th>2019-Male_Voters_Turnout</th>\n",
       "      <th>2019-Female_Voters_Turnout</th>\n",
       "    </tr>\n",
       "  </thead>\n",
       "  <tbody>\n",
       "    <tr>\n",
       "      <th>0</th>\n",
       "      <td>ARMM</td>\n",
       "      <td>BASILAN</td>\n",
       "      <td>AKBAR</td>\n",
       "      <td>5349.0</td>\n",
       "      <td>2560.0</td>\n",
       "      <td>2789.0</td>\n",
       "      <td>137.0</td>\n",
       "      <td>1411.0</td>\n",
       "      <td>674.0</td>\n",
       "      <td>613.0</td>\n",
       "      <td>...</td>\n",
       "      <td>11</td>\n",
       "      <td>6183</td>\n",
       "      <td>2943</td>\n",
       "      <td>3240</td>\n",
       "      <td>4303</td>\n",
       "      <td>1942</td>\n",
       "      <td>2361</td>\n",
       "      <td>69.59</td>\n",
       "      <td>65.99</td>\n",
       "      <td>72.87</td>\n",
       "    </tr>\n",
       "    <tr>\n",
       "      <th>1</th>\n",
       "      <td>ARMM</td>\n",
       "      <td>BASILAN</td>\n",
       "      <td>AL-BARKA</td>\n",
       "      <td>7332.0</td>\n",
       "      <td>3371.0</td>\n",
       "      <td>3961.0</td>\n",
       "      <td>46.0</td>\n",
       "      <td>1903.0</td>\n",
       "      <td>1029.0</td>\n",
       "      <td>936.0</td>\n",
       "      <td>...</td>\n",
       "      <td>16</td>\n",
       "      <td>9074</td>\n",
       "      <td>4284</td>\n",
       "      <td>4790</td>\n",
       "      <td>6782</td>\n",
       "      <td>3110</td>\n",
       "      <td>3672</td>\n",
       "      <td>74.74</td>\n",
       "      <td>72.60</td>\n",
       "      <td>76.66</td>\n",
       "    </tr>\n",
       "    <tr>\n",
       "      <th>2</th>\n",
       "      <td>ARMM</td>\n",
       "      <td>BASILAN</td>\n",
       "      <td>HADJI MOHAMMAD AJUL</td>\n",
       "      <td>8594.0</td>\n",
       "      <td>4299.0</td>\n",
       "      <td>4295.0</td>\n",
       "      <td>1232.0</td>\n",
       "      <td>1716.0</td>\n",
       "      <td>1162.0</td>\n",
       "      <td>908.0</td>\n",
       "      <td>...</td>\n",
       "      <td>16</td>\n",
       "      <td>11193</td>\n",
       "      <td>5664</td>\n",
       "      <td>5529</td>\n",
       "      <td>6906</td>\n",
       "      <td>3535</td>\n",
       "      <td>3371</td>\n",
       "      <td>61.70</td>\n",
       "      <td>62.41</td>\n",
       "      <td>60.97</td>\n",
       "    </tr>\n",
       "    <tr>\n",
       "      <th>3</th>\n",
       "      <td>ARMM</td>\n",
       "      <td>BASILAN</td>\n",
       "      <td>HADJI MUHTAMAD</td>\n",
       "      <td>8135.0</td>\n",
       "      <td>4326.0</td>\n",
       "      <td>3809.0</td>\n",
       "      <td>211.0</td>\n",
       "      <td>1809.0</td>\n",
       "      <td>1227.0</td>\n",
       "      <td>1095.0</td>\n",
       "      <td>...</td>\n",
       "      <td>15</td>\n",
       "      <td>9373</td>\n",
       "      <td>4968</td>\n",
       "      <td>4405</td>\n",
       "      <td>6428</td>\n",
       "      <td>3401</td>\n",
       "      <td>3027</td>\n",
       "      <td>68.58</td>\n",
       "      <td>68.46</td>\n",
       "      <td>68.72</td>\n",
       "    </tr>\n",
       "    <tr>\n",
       "      <th>4</th>\n",
       "      <td>ARMM</td>\n",
       "      <td>BASILAN</td>\n",
       "      <td>LAMITAN CITY</td>\n",
       "      <td>45827.0</td>\n",
       "      <td>22505.0</td>\n",
       "      <td>23322.0</td>\n",
       "      <td>5623.0</td>\n",
       "      <td>7227.0</td>\n",
       "      <td>5375.0</td>\n",
       "      <td>4767.0</td>\n",
       "      <td>...</td>\n",
       "      <td>73</td>\n",
       "      <td>51623</td>\n",
       "      <td>25447</td>\n",
       "      <td>26176</td>\n",
       "      <td>37589</td>\n",
       "      <td>18835</td>\n",
       "      <td>18754</td>\n",
       "      <td>72.81</td>\n",
       "      <td>74.02</td>\n",
       "      <td>71.65</td>\n",
       "    </tr>\n",
       "  </tbody>\n",
       "</table>\n",
       "<p>5 rows × 36 columns</p>\n",
       "</div>"
      ],
      "text/plain": [
       "  Region Province         Municipality  2016-Registered_Voters  \\\n",
       "0   ARMM  BASILAN                AKBAR                  5349.0   \n",
       "1   ARMM  BASILAN             AL-BARKA                  7332.0   \n",
       "2   ARMM  BASILAN  HADJI MOHAMMAD AJUL                  8594.0   \n",
       "3   ARMM  BASILAN       HADJI MUHTAMAD                  8135.0   \n",
       "4   ARMM  BASILAN         LAMITAN CITY                 45827.0   \n",
       "\n",
       "   2016-Registered_Male  2016-Registered_Female  2016-Registered_17-19  \\\n",
       "0                2560.0                  2789.0                  137.0   \n",
       "1                3371.0                  3961.0                   46.0   \n",
       "2                4299.0                  4295.0                 1232.0   \n",
       "3                4326.0                  3809.0                  211.0   \n",
       "4               22505.0                 23322.0                 5623.0   \n",
       "\n",
       "   2016-Registered_20-24  2016-Registered_25-29  2016-Registered_30-34  ...  \\\n",
       "0                 1411.0                  674.0                  613.0  ...   \n",
       "1                 1903.0                 1029.0                  936.0  ...   \n",
       "2                 1716.0                 1162.0                  908.0  ...   \n",
       "3                 1809.0                 1227.0                 1095.0  ...   \n",
       "4                 7227.0                 5375.0                 4767.0  ...   \n",
       "\n",
       "   2019-Clustered_Precincts  2019-Registered_Voters  2019-Registered_Male  \\\n",
       "0                        11                    6183                  2943   \n",
       "1                        16                    9074                  4284   \n",
       "2                        16                   11193                  5664   \n",
       "3                        15                    9373                  4968   \n",
       "4                        73                   51623                 25447   \n",
       "\n",
       "   2019-Registered_Female  2019-Actual_Voters  2019-Actual_Voters_Male  \\\n",
       "0                    3240                4303                     1942   \n",
       "1                    4790                6782                     3110   \n",
       "2                    5529                6906                     3535   \n",
       "3                    4405                6428                     3401   \n",
       "4                   26176               37589                    18835   \n",
       "\n",
       "   2019-Actual_Voters_Female  2019-Total_Voters_Turnout  \\\n",
       "0                       2361                      69.59   \n",
       "1                       3672                      74.74   \n",
       "2                       3371                      61.70   \n",
       "3                       3027                      68.58   \n",
       "4                      18754                      72.81   \n",
       "\n",
       "   2019-Male_Voters_Turnout  2019-Female_Voters_Turnout  \n",
       "0                     65.99                       72.87  \n",
       "1                     72.60                       76.66  \n",
       "2                     62.41                       60.97  \n",
       "3                     68.46                       68.72  \n",
       "4                     74.02                       71.65  \n",
       "\n",
       "[5 rows x 36 columns]"
      ]
     },
     "execution_count": 19,
     "metadata": {},
     "output_type": "execute_result"
    }
   ],
   "source": [
    "df.head()"
   ]
  },
  {
   "cell_type": "code",
   "execution_count": 27,
   "id": "95bebc3a",
   "metadata": {},
   "outputs": [
    {
     "data": {
      "text/plain": [
       "<matplotlib.collections.PathCollection at 0x7fef69238640>"
      ]
     },
     "execution_count": 27,
     "metadata": {},
     "output_type": "execute_result"
    },
    {
     "data": {
      "image/png": "[encoded data removed]",
      "text/plain": [
       "<Figure size 864x432 with 1 Axes>"
      ]
     },
     "metadata": {
      "needs_background": "light"
     },
     "output_type": "display_data"
    }
   ],
   "source": [
    "# lets first look at the distribution of the data\n",
    "\n",
    "# these are the features we'll be using\n",
    "feature_cols = ['2019-Total_Voters_Turnout','2019-Male_Voters_Turnout','2019-Female_Voters_Turnout']\n",
    "\n",
    "plt.figure(figsize=(12,6))\n",
    "plt.scatter(df.loc[:, '2019-Total_Voters_Turnout'], df.loc[:, '2019-Male_Voters_Turnout'], c=df.loc[:,'2019-Female_Voters_Turnout'])\n"
   ]
  },
  {
   "cell_type": "markdown",
   "id": "5c34ce05",
   "metadata": {},
   "source": [
    "As you can see there are no distinct groups in the data, which means the variables used may not be good indicators for clustering, but for this example we will still use it"
   ]
  },
  {
   "cell_type": "markdown",
   "id": "24c65089",
   "metadata": {},
   "source": [
    "## The next step is to always normalize your data\n",
    "The reason why we need to do this is because KMeans algorithm clusters each data point in terms of distance, so the difference in magnitude wont affect the performance of the model"
   ]
  },
  {
   "cell_type": "code",
   "execution_count": 29,
   "id": "5dcf6c78",
   "metadata": {},
   "outputs": [],
   "source": [
    "from sklearn.preprocessing import StandardScaler\n",
    "\n",
    "scaler = StandardScaler()\n",
    "\n",
    "# select the features we're using\n",
    "feature_cols = ['2019-Total_Voters_Turnout','2019-Male_Voters_Turnout','2019-Female_Voters_Turnout']\n",
    "X = df[feature_cols]\n",
    "\n",
    "# feature scaling\n",
    "X = scaler.fit_transform(X.values)"
   ]
  },
  {
   "cell_type": "markdown",
   "id": "2c0ec293",
   "metadata": {},
   "source": [
    "## Now that we've normalized our data, we can proceed to making our model"
   ]
  },
  {
   "cell_type": "code",
   "execution_count": 34,
   "id": "14c2cb85",
   "metadata": {},
   "outputs": [],
   "source": [
    "# first lets initialize a random number for K, and let's use K-means++ as in order to optimize the our centroids\n",
    "\n",
    "from sklearn.cluster import KMeans\n",
    "# defining the number of K\n",
    "kmeans = KMeans(n_clusters=5, init='k-means++')\n",
    "# fitting the model to our scaled data\n",
    "kmeans.fit(X)\n",
    "y_pred = kmeans.predict(X) # these are our labels"
   ]
  },
  {
   "cell_type": "code",
   "execution_count": 36,
   "id": "3bd75fd5",
   "metadata": {},
   "outputs": [
    {
     "name": "stdout",
     "output_type": "stream",
     "text": [
      "Inertia: 910.7618141960709\n",
      "Silhouette: 0.4356994820911885\n"
     ]
    }
   ],
   "source": [
    "# now lets evaluate how good our model did by looking at the inertia and silhouette score\n",
    "from sklearn.metrics import silhouette_score\n",
    "\n",
    "s_score = silhouette_score(X, y_pred)\n",
    "\n",
    "print(\"Inertia: \" + str(kmeans.inertia_))\n",
    "print(\"Silhouette: \" + str(s_score))"
   ]
  },
  {
   "cell_type": "markdown",
   "id": "6d271147",
   "metadata": {},
   "source": [
    "Based on these values, our model did not do good. \n",
    "For inertia, we want it to be as low as possible, and for silhouette, you want it to be closer to 1 than -1"
   ]
  },
  {
   "cell_type": "markdown",
   "id": "47564096",
   "metadata": {},
   "source": [
    "## Let's try to tune our model to get better results"
   ]
  },
  {
   "cell_type": "code",
   "execution_count": 48,
   "id": "f1f789af",
   "metadata": {},
   "outputs": [],
   "source": [
    "inertia = []\n",
    "sil = []\n",
    "\n",
    "# fitting the model through different number of clusters to see which does better\n",
    "for k in range(3,20):\n",
    "    km = KMeans(n_clusters=k, random_state=1, init='k-means++')\n",
    "    km.fit(X)\n",
    "    y_pred = km.predict(X)\n",
    "    \n",
    "    inertia.append((k, km.inertia_))\n",
    "    sil.append((k, silhouette_score(X, y_pred)))"
   ]
  },
  {
   "cell_type": "code",
   "execution_count": 49,
   "id": "b91d0ce9",
   "metadata": {},
   "outputs": [
    {
     "data": {
      "text/plain": [
       "Text(0.5, 1.0, 'Silhouetter Score Curve')"
      ]
     },
     "execution_count": 49,
     "metadata": {},
     "output_type": "execute_result"
    },
    {
     "data": {
      "image/png": "[encoded data removed]",
      "text/plain": [
       "<Figure size 1008x432 with 2 Axes>"
      ]
     },
     "metadata": {
      "needs_background": "light"
     },
     "output_type": "display_data"
    }
   ],
   "source": [
    "# now lets plot the results\n",
    "\n",
    "fig, ax = plt.subplots(1,2, figsize=(14,6))\n",
    "\n",
    "# plotting the elbow curve\n",
    "x_iner = [x[0] for x in inertia]\n",
    "y_iner = [x[1] for x in inertia]\n",
    "ax[0].plot(x_iner, y_iner)\n",
    "ax[0].set_xlabel('Number of Clusters')\n",
    "ax[0].set_ylabel('Intertia')\n",
    "ax[0].set_title(\"Inertia Score - AKA. 'Elbow Curve'\")\n",
    "\n",
    "# plotting the silhouette score\n",
    "x_sil = [x[0] for x in sil]\n",
    "y_sil = [x[1] for x in sil]\n",
    "ax[1].plot(x_sil, y_sil)\n",
    "ax[1].set_xlabel('Number of Clusters')\n",
    "ax[1].set_ylabel('Silhouetter Score')\n",
    "ax[1].set_title('Silhouetter Score Curve')"
   ]
  },
  {
   "cell_type": "markdown",
   "id": "25b8a5a9",
   "metadata": {},
   "source": [
    "Its a bit hard to see the most optimal number of K here, but let's go with 7"
   ]
  },
  {
   "cell_type": "markdown",
   "id": "f913715f",
   "metadata": {},
   "source": [
    "## Apply the number of clusters you chose from the graph"
   ]
  },
  {
   "cell_type": "code",
   "execution_count": 51,
   "id": "bcffed95",
   "metadata": {},
   "outputs": [],
   "source": [
    "kmeans = KMeans(n_clusters=7, init='k-means++')\n",
    "kmeans.fit(X)\n",
    "labels = kmeans.predict(X)"
   ]
  },
  {
   "cell_type": "code",
   "execution_count": null,
   "id": "259a3fa6",
   "metadata": {},
   "outputs": [],
   "source": []
  }
 ],
 "metadata": {
  "kernelspec": {
   "display_name": "Python 3 (ipykernel)",
   "language": "python",
   "name": "python3"
  },
  "language_info": {
   "codemirror_mode": {
    "name": "ipython",
    "version": 3
   },
   "file_extension": ".py",
   "mimetype": "text/x-python",
   "name": "python",
   "nbconvert_exporter": "python",
   "pygments_lexer": "ipython3",
   "version": "3.9.1"
  }
 },
 "nbformat": 4,
 "nbformat_minor": 5
}
