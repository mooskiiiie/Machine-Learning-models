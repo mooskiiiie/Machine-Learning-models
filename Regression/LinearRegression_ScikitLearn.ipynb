{
 "cells": [
  {
   "cell_type": "code",
   "execution_count": 2,
   "id": "cf4af2ca",
   "metadata": {},
   "outputs": [],
   "source": [
    "import pandas as pd\n",
    "import numpy as np\n",
    "import matplotlib.pyplot as plt"
   ]
  },
  {
   "cell_type": "code",
   "execution_count": 3,
   "id": "c4790551",
   "metadata": {},
   "outputs": [],
   "source": [
    "# creating a dummy dataset\n",
    "\n",
    "np.random.seed(10)\n",
    "X = np.random.rand(50,1)\n",
    "y = 3 + 3 * X + np.random.rand(50,1)"
   ]
  },
  {
   "cell_type": "code",
   "execution_count": 4,
   "id": "3cf369e7",
   "metadata": {},
   "outputs": [
    {
     "data": {
      "image/png": "[encoded data removed]",
      "text/plain": [
       "<Figure size 432x288 with 1 Axes>"
      ]
     },
     "metadata": {
      "needs_background": "light"
     },
     "output_type": "display_data"
    }
   ],
   "source": [
    "# visualize linearity of data\n",
    "\n",
    "plt.scatter(X,y, s=10)\n",
    "plt.show()"
   ]
  },
  {
   "cell_type": "code",
   "execution_count": 5,
   "id": "eb1a19c2",
   "metadata": {},
   "outputs": [],
   "source": [
    "# modelling\n",
    "\n",
    "from sklearn.linear_model import LinearRegression\n",
    "\n",
    "regressor = LinearRegression()\n",
    "regressor.fit(X,y)\n",
    "pred = regressor.predict(X)"
   ]
  },
  {
   "cell_type": "code",
   "execution_count": 6,
   "id": "a92c23ce",
   "metadata": {},
   "outputs": [
    {
     "data": {
      "text/plain": [
       "[<matplotlib.lines.Line2D at 0x7f96923ad310>]"
      ]
     },
     "execution_count": 6,
     "metadata": {},
     "output_type": "execute_result"
    },
    {
     "data": {
      "image/png": "[encoded data removed]",
      "text/plain": [
       "<Figure size 432x288 with 1 Axes>"
      ]
     },
     "metadata": {
      "needs_background": "light"
     },
     "output_type": "display_data"
    }
   ],
   "source": [
    "# model evaluation\n",
    "\n",
    "from sklearn.metrics import r2_score, mean_squared_error\n",
    "\n",
    "mse = mean_squared_error(y, pred)\n",
    "r2 = r2_score(y, pred)\n",
    "\n",
    "# best fit line\n",
    "plt.scatter(X,y)\n",
    "plt.plot(X, pred, color='Black', marker='o')"
   ]
  },
  {
   "cell_type": "code",
   "execution_count": 7,
   "id": "2d55935e",
   "metadata": {},
   "outputs": [
    {
     "name": "stdout",
     "output_type": "stream",
     "text": [
      "Mean Squared Error:  0.0746314112910216\n",
      "R-Squared:  0.9068822972556425\n",
      "Y-intercept:  [3.41354381]\n",
      "Slope:  [[3.11024701]]\n"
     ]
    }
   ],
   "source": [
    "# results\n",
    "print(\"Mean Squared Error: \", mse)\n",
    "print(\"R-Squared: \", r2)\n",
    "print(\"Y-intercept: \", regressor.intercept_)\n",
    "print(\"Slope: \", regressor.coef_)"
   ]
  },
  {
   "cell_type": "code",
   "execution_count": null,
   "id": "b64b00cb",
   "metadata": {},
   "outputs": [],
   "source": []
  }
 ],
 "metadata": {
  "kernelspec": {
   "display_name": "Python 3 (ipykernel)",
   "language": "python",
   "name": "python3"
  },
  "language_info": {
   "codemirror_mode": {
    "name": "ipython",
    "version": 3
   },
   "file_extension": ".py",
   "mimetype": "text/x-python",
   "name": "python",
   "nbconvert_exporter": "python",
   "pygments_lexer": "ipython3",
   "version": "3.9.1"
  }
 },
 "nbformat": 4,
 "nbformat_minor": 5
}
